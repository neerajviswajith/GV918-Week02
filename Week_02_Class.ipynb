{
  "nbformat": 4,
  "nbformat_minor": 0,
  "metadata": {
    "colab": {
      "name": "Week 02 Class.ipynb",
      "provenance": [],
      "collapsed_sections": []
    },
    "kernelspec": {
      "name": "python3",
      "display_name": "Python 3"
    }
  },
  "cells": [
    {
      "cell_type": "markdown",
      "metadata": {
        "id": "IVijStwRXqOm"
      },
      "source": [
        "# Week 02 Class: Exercises"
      ]
    },
    {
      "cell_type": "markdown",
      "metadata": {
        "id": "iIXp1gtxEDGP"
      },
      "source": [
        "In this exercise, we will review python basics. "
      ]
    },
    {
      "cell_type": "markdown",
      "metadata": {
        "id": "p7g-vh9GXuHa"
      },
      "source": [
        "## Variables\n"
      ]
    },
    {
      "cell_type": "markdown",
      "metadata": {
        "id": "EtXJ1CbJfDMP"
      },
      "source": [
        "### Create variables"
      ]
    },
    {
      "cell_type": "markdown",
      "metadata": {
        "id": "Il7w4ZyJekgD"
      },
      "source": [
        "Let's start with a very simple exercise of creating new variables\n",
        "\n",
        "\n",
        "\n",
        "1.   Variable called var_a with value of 3\n",
        "2.   Variable called var_b with value of 100\n",
        "3.   String variable str_var_a with value of \"GV918\"\n",
        "4.   String variable str_var_a with value of \"Data for Social Data Science\"\n",
        "\n",
        "\n"
      ]
    },
    {
      "cell_type": "code",
      "metadata": {
        "id": "I-Uhpjn4fmlq"
      },
      "source": [
        "var_a = 3\n",
        "var_b = 100\n",
        "str_var_a = \"GV918\"\n",
        "str_var_a = \"Data for Social Data Science\""
      ],
      "execution_count": 1,
      "outputs": []
    },
    {
      "cell_type": "code",
      "metadata": {
        "id": "rDsogJahcP5w"
      },
      "source": [
        ""
      ],
      "execution_count": null,
      "outputs": []
    },
    {
      "cell_type": "markdown",
      "metadata": {
        "id": "n4edwXaTfX5C"
      },
      "source": [
        "### Variable operations"
      ]
    },
    {
      "cell_type": "markdown",
      "metadata": {
        "id": "Jx-VgZXhft4_"
      },
      "source": [
        "\n",
        "\n",
        "*   Add var_a and var_b\n",
        "*   Subtract var_a from var_b\n",
        "*   Multiply var_a and var_b\n",
        "*   Divide var_b by var_a\n",
        "\n"
      ]
    },
    {
      "cell_type": "code",
      "metadata": {
        "id": "F38MqMvggGHY",
        "outputId": "245e77a4-ebaf-48c3-9c8e-be566bbdcc98",
        "colab": {
          "base_uri": "https://localhost:8080/",
          "height": 34
        }
      },
      "source": [
        "var_b * var_a"
      ],
      "execution_count": 7,
      "outputs": [
        {
          "output_type": "execute_result",
          "data": {
            "text/plain": [
              "300"
            ]
          },
          "metadata": {
            "tags": []
          },
          "execution_count": 7
        }
      ]
    },
    {
      "cell_type": "code",
      "metadata": {
        "id": "JSdayZXicYIx",
        "outputId": "5f5e8265-a34f-4552-def3-fe4dce632106",
        "colab": {
          "base_uri": "https://localhost:8080/",
          "height": 34
        }
      },
      "source": [
        "var_b / var_a"
      ],
      "execution_count": 44,
      "outputs": [
        {
          "output_type": "execute_result",
          "data": {
            "text/plain": [
              "300"
            ]
          },
          "metadata": {
            "tags": []
          },
          "execution_count": 44
        }
      ]
    },
    {
      "cell_type": "code",
      "metadata": {
        "id": "4oe_jxlIcalz"
      },
      "source": [
        "var_b - var_a"
      ],
      "execution_count": null,
      "outputs": []
    },
    {
      "cell_type": "code",
      "metadata": {
        "id": "yJWkv1PDcbbb",
        "outputId": "c603f2ef-dbd0-451a-a7ea-c3a54e53172d",
        "colab": {
          "base_uri": "https://localhost:8080/",
          "height": 34
        }
      },
      "source": [
        "var_b / var_a"
      ],
      "execution_count": 45,
      "outputs": [
        {
          "output_type": "execute_result",
          "data": {
            "text/plain": [
              "33.333333333333336"
            ]
          },
          "metadata": {
            "tags": []
          },
          "execution_count": 45
        }
      ]
    },
    {
      "cell_type": "markdown",
      "metadata": {
        "id": "daqr2BXlRO_u"
      },
      "source": [
        "## Saving on Github\n",
        "\n",
        "- Before going to the next section, let's save the work on github."
      ]
    },
    {
      "cell_type": "markdown",
      "metadata": {
        "id": "u0HUK1lQbEb4"
      },
      "source": [
        "## Lists"
      ]
    },
    {
      "cell_type": "markdown",
      "metadata": {
        "id": "WW78ZY6yjbT6"
      },
      "source": [
        "### Create lists"
      ]
    },
    {
      "cell_type": "markdown",
      "metadata": {
        "id": "Mdq_SIg9gOMg"
      },
      "source": [
        "1. Create a list, list_a, with values of 1, 3, 4, 5, 9, 2, 4.5\n",
        "2. Create a list, list_b, with words from \"this is a simple string list\" \n",
        "  - You can type all or use `*.split` method"
      ]
    },
    {
      "cell_type": "code",
      "metadata": {
        "id": "QllZLPMabmsD"
      },
      "source": [
        "list_a = [1,3,4,5,9,2,4.5]\n",
        "list_b = [\"this\",\"is\",\"a,\",\"simple\",\"string\",\"list\"]"
      ],
      "execution_count": 46,
      "outputs": []
    },
    {
      "cell_type": "markdown",
      "metadata": {
        "id": "CPo-xxVmjfUL"
      },
      "source": [
        "### Slicing lists"
      ]
    },
    {
      "cell_type": "markdown",
      "metadata": {
        "id": "XZyEmoCpjjdU"
      },
      "source": [
        "- From the first list, extract a sublist with elements of:\n",
        "    -   1, 3, 4\n",
        "    -   9, 2, 4.5\n",
        "    -   4, 5, 9\n"
      ]
    },
    {
      "cell_type": "code",
      "metadata": {
        "id": "5JTxUTdnjep3",
        "outputId": "80da3832-7f3d-489a-c97b-eecce1837853",
        "colab": {
          "base_uri": "https://localhost:8080/",
          "height": 67
        }
      },
      "source": [
        "print(list_a[0:3])\n",
        "print(list_a[4:7])\n",
        "print(list_a[2:5])"
      ],
      "execution_count": 47,
      "outputs": [
        {
          "output_type": "stream",
          "text": [
            "[1, 3, 4]\n",
            "[9, 2, 4.5]\n",
            "[4, 5, 9]\n"
          ],
          "name": "stdout"
        }
      ]
    },
    {
      "cell_type": "markdown",
      "metadata": {
        "id": "egyAtr0slWVG"
      },
      "source": [
        "## Manipulating lists"
      ]
    },
    {
      "cell_type": "markdown",
      "metadata": {
        "id": "vZQJxYrbldyl"
      },
      "source": [
        "- Append an element (e.g. 100) to list_a\n",
        "- Replace the second element of list_a to 12"
      ]
    },
    {
      "cell_type": "code",
      "metadata": {
        "id": "rJ9u0rbXEyzA"
      },
      "source": [
        "list_a.append(100)"
      ],
      "execution_count": 48,
      "outputs": []
    },
    {
      "cell_type": "code",
      "metadata": {
        "id": "uwp7lnTecnCQ",
        "outputId": "2a610fd4-d4fc-4fba-dd53-f1b0547fe9be",
        "colab": {
          "base_uri": "https://localhost:8080/",
          "height": 34
        }
      },
      "source": [
        "list_a[5] = 12\n",
        "list_a"
      ],
      "execution_count": 49,
      "outputs": [
        {
          "output_type": "execute_result",
          "data": {
            "text/plain": [
              "[1, 3, 4, 5, 9, 12, 4.5, 100]"
            ]
          },
          "metadata": {
            "tags": []
          },
          "execution_count": 49
        }
      ]
    },
    {
      "cell_type": "markdown",
      "metadata": {
        "id": "Zf1GnnLE5ECS"
      },
      "source": [
        "### Concatenate lists"
      ]
    },
    {
      "cell_type": "markdown",
      "metadata": {
        "id": "jAgDA5GL5HuC"
      },
      "source": [
        "- Concatenate list_a and list_b\n",
        "- Use `+`"
      ]
    },
    {
      "cell_type": "code",
      "metadata": {
        "id": "MFA23E1H5HO2",
        "outputId": "59ff9adf-ba5d-416e-a839-024291691e93",
        "colab": {
          "base_uri": "https://localhost:8080/",
          "height": 34
        }
      },
      "source": [
        "list_3 = list_a + list_b\n",
        "list_3"
      ],
      "execution_count": 50,
      "outputs": [
        {
          "output_type": "execute_result",
          "data": {
            "text/plain": [
              "[1, 3, 4, 5, 9, 12, 4.5, 100, 'this', 'is', 'a,', 'simple', 'string', 'list']"
            ]
          },
          "metadata": {
            "tags": []
          },
          "execution_count": 50
        }
      ]
    },
    {
      "cell_type": "markdown",
      "metadata": {
        "id": "Y_Ovr2NB7R_V"
      },
      "source": [
        "### Copying lists"
      ]
    },
    {
      "cell_type": "markdown",
      "metadata": {
        "id": "mYaM6Za77cq1"
      },
      "source": [
        "Do the following operations\n",
        "- Assign `lsit_a` to `list_a2`\n",
        "- Change the value of `list_a2[0]` to 7\n",
        "- Check the value of `list_a` and `list_a2`\n",
        "\n",
        "What do you find? "
      ]
    },
    {
      "cell_type": "code",
      "metadata": {
        "id": "0l6ZdhMiE1NK"
      },
      "source": [
        "list_a2 = list_a"
      ],
      "execution_count": 51,
      "outputs": []
    },
    {
      "cell_type": "code",
      "metadata": {
        "id": "pbtHy5CDajhU"
      },
      "source": [
        "list_a2[0] = 7"
      ],
      "execution_count": 52,
      "outputs": []
    },
    {
      "cell_type": "code",
      "metadata": {
        "id": "SH_AWW14apqW",
        "outputId": "1b4fcf86-4790-4718-bacf-f850cab9c9a3",
        "colab": {
          "base_uri": "https://localhost:8080/",
          "height": 50
        }
      },
      "source": [
        "print(list_a)\n",
        "print(list_a2)"
      ],
      "execution_count": 53,
      "outputs": [
        {
          "output_type": "stream",
          "text": [
            "[7, 3, 4, 5, 9, 12, 4.5, 100]\n",
            "[7, 3, 4, 5, 9, 12, 4.5, 100]\n"
          ],
          "name": "stdout"
        }
      ]
    },
    {
      "cell_type": "markdown",
      "metadata": {
        "id": "kF_f4TLg-RAT"
      },
      "source": [
        "## Dictionary"
      ]
    },
    {
      "cell_type": "markdown",
      "metadata": {
        "id": "LBbTHliu-U2A"
      },
      "source": [
        "- create a dictionary with the follwoing key-value pairs\n",
        "    *   a: 10\n",
        "    *   b: 20\n",
        "    *   c: 70n\n",
        "- add some new key and value\n",
        "\n"
      ]
    },
    {
      "cell_type": "code",
      "metadata": {
        "id": "myq61b4x-i2c",
        "outputId": "b5249e2a-1aba-459f-b521-c6cd8891df0b",
        "colab": {
          "base_uri": "https://localhost:8080/",
          "height": 34
        }
      },
      "source": [
        "dic1 = {\"a\":10, \"b\":20, \"c\":\"70n\"}\n",
        "dic1"
      ],
      "execution_count": 55,
      "outputs": [
        {
          "output_type": "execute_result",
          "data": {
            "text/plain": [
              "{'a': 10, 'b': 20, 'c': '70n'}"
            ]
          },
          "metadata": {
            "tags": []
          },
          "execution_count": 55
        }
      ]
    },
    {
      "cell_type": "markdown",
      "metadata": {
        "id": "69H-MRgibxQe"
      },
      "source": [
        "## (Optional) String operation"
      ]
    },
    {
      "cell_type": "markdown",
      "metadata": {
        "id": "xciWhwD-hmd7"
      },
      "source": [
        "### Concatenation"
      ]
    },
    {
      "cell_type": "markdown",
      "metadata": {
        "id": "CyHZ3qdchNTf"
      },
      "source": [
        "Let's do some string operation"
      ]
    },
    {
      "cell_type": "code",
      "metadata": {
        "id": "SuTa8GiWbyy7"
      },
      "source": [
        "str_1 = \"Hello\"\n",
        "str_2 = \"world\"\n",
        "str_3 = \"!\""
      ],
      "execution_count": 34,
      "outputs": []
    },
    {
      "cell_type": "markdown",
      "metadata": {
        "id": "EUySRJKhhZen"
      },
      "source": [
        "How to concateneate them to craete \"Hello world?\"\n",
        "[https://www.w3schools.com/python/python_strings.asp](https://www.w3schools.com/python/python_strings.asp)"
      ]
    },
    {
      "cell_type": "code",
      "metadata": {
        "id": "u1Xs5Xbnhiiw",
        "outputId": "04810611-213d-4510-c1ab-e000bac8c682",
        "colab": {
          "base_uri": "https://localhost:8080/",
          "height": 34
        }
      },
      "source": [
        "print(str_1,str_2,str_3)"
      ],
      "execution_count": 38,
      "outputs": [
        {
          "output_type": "stream",
          "text": [
            "Hello world !\n"
          ],
          "name": "stdout"
        }
      ]
    },
    {
      "cell_type": "markdown",
      "metadata": {
        "id": "AaOIR7PlhqaF"
      },
      "source": [
        "### Formatting\n",
        "\n",
        "Read the section of **String Format** and try to generate \"Today is 13-10-2020\""
      ]
    },
    {
      "cell_type": "code",
      "metadata": {
        "id": "XMN4BABMiHdc",
        "outputId": "c5719825-bc2d-49f5-c676-24589aa09404",
        "colab": {
          "base_uri": "https://localhost:8080/",
          "height": 34
        }
      },
      "source": [
        "year = 2020\n",
        "month = 10\n",
        "date = 13\n",
        "fill_str = \"Today is ...\" ## this part has to be changed\n",
        "fill_str2 = \"Today is\" \n",
        "\n",
        "print(fill_str2,date,\"-\",month,\"-\",year)"
      ],
      "execution_count": 43,
      "outputs": [
        {
          "output_type": "stream",
          "text": [
            "Today is 13 - 10 - 2020\n"
          ],
          "name": "stdout"
        }
      ]
    }
  ]
}